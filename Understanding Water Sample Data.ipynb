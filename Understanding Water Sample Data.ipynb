{
 "cells": [
  {
   "cell_type": "markdown",
   "metadata": {},
   "source": [
    "# This notebook was made to understanding water sample data taken from Kaggle\n",
    "\n",
    "08/24/2021\n",
    "\n",
    "Author: Jason Li"
   ]
  },
  {
   "cell_type": "code",
   "execution_count": 2,
   "metadata": {},
   "outputs": [],
   "source": [
    "import pandas as pd\n",
    "import numpy as np"
   ]
  },
  {
   "cell_type": "code",
   "execution_count": 7,
   "metadata": {},
   "outputs": [],
   "source": [
    "import matplotlib.pyplot as plt\n",
    "import seaborn as sns"
   ]
  },
  {
   "cell_type": "code",
   "execution_count": 3,
   "metadata": {},
   "outputs": [],
   "source": [
    "df = pd.read_csv('waterPollution.csv');"
   ]
  },
  {
   "cell_type": "code",
   "execution_count": 4,
   "metadata": {
    "scrolled": true
   },
   "outputs": [
    {
     "data": {
      "text/html": [
       "<div>\n",
       "<style scoped>\n",
       "    .dataframe tbody tr th:only-of-type {\n",
       "        vertical-align: middle;\n",
       "    }\n",
       "\n",
       "    .dataframe tbody tr th {\n",
       "        vertical-align: top;\n",
       "    }\n",
       "\n",
       "    .dataframe thead th {\n",
       "        text-align: right;\n",
       "    }\n",
       "</style>\n",
       "<table border=\"1\" class=\"dataframe\">\n",
       "  <thead>\n",
       "    <tr style=\"text-align: right;\">\n",
       "      <th></th>\n",
       "      <th>parameterWaterBodyCategory</th>\n",
       "      <th>observedPropertyDeterminandCode</th>\n",
       "      <th>procedureAnalysedFraction</th>\n",
       "      <th>procedureAnalysedMedia</th>\n",
       "      <th>resultUom</th>\n",
       "      <th>phenomenonTimeReferenceYear</th>\n",
       "      <th>parameterSamplingPeriod</th>\n",
       "      <th>resultMeanValue</th>\n",
       "      <th>waterBodyIdentifier</th>\n",
       "      <th>Country</th>\n",
       "      <th>...</th>\n",
       "      <th>composition_food_organic_waste_percent</th>\n",
       "      <th>composition_glass_percent</th>\n",
       "      <th>composition_metal_percent</th>\n",
       "      <th>composition_other_percent</th>\n",
       "      <th>composition_paper_cardboard_percent</th>\n",
       "      <th>composition_plastic_percent</th>\n",
       "      <th>composition_rubber_leather_percent</th>\n",
       "      <th>composition_wood_percent</th>\n",
       "      <th>composition_yard_garden_green_waste_percent</th>\n",
       "      <th>waste_treatment_recycling_percent</th>\n",
       "    </tr>\n",
       "  </thead>\n",
       "  <tbody>\n",
       "    <tr>\n",
       "      <th>0</th>\n",
       "      <td>RW</td>\n",
       "      <td>CAS_14797-65-0</td>\n",
       "      <td>total</td>\n",
       "      <td>water</td>\n",
       "      <td>mg{NO2}/L</td>\n",
       "      <td>2009</td>\n",
       "      <td>2009-01--2009-12</td>\n",
       "      <td>0.063310</td>\n",
       "      <td>FRDR609</td>\n",
       "      <td>France</td>\n",
       "      <td>...</td>\n",
       "      <td>32.0</td>\n",
       "      <td>10.0</td>\n",
       "      <td>3.0</td>\n",
       "      <td>26.0</td>\n",
       "      <td>20.0</td>\n",
       "      <td>9.0</td>\n",
       "      <td>0.0</td>\n",
       "      <td>0.0</td>\n",
       "      <td>0.0</td>\n",
       "      <td>22.26</td>\n",
       "    </tr>\n",
       "    <tr>\n",
       "      <th>1</th>\n",
       "      <td>RW</td>\n",
       "      <td>CAS_14797-65-0</td>\n",
       "      <td>total</td>\n",
       "      <td>water</td>\n",
       "      <td>mg{NO2}/L</td>\n",
       "      <td>2009</td>\n",
       "      <td>2009-01--2009-12</td>\n",
       "      <td>0.046733</td>\n",
       "      <td>FRFR238</td>\n",
       "      <td>France</td>\n",
       "      <td>...</td>\n",
       "      <td>32.0</td>\n",
       "      <td>10.0</td>\n",
       "      <td>3.0</td>\n",
       "      <td>26.0</td>\n",
       "      <td>20.0</td>\n",
       "      <td>9.0</td>\n",
       "      <td>0.0</td>\n",
       "      <td>0.0</td>\n",
       "      <td>0.0</td>\n",
       "      <td>22.26</td>\n",
       "    </tr>\n",
       "    <tr>\n",
       "      <th>2</th>\n",
       "      <td>RW</td>\n",
       "      <td>EEA_3164-07-6</td>\n",
       "      <td>total</td>\n",
       "      <td>water</td>\n",
       "      <td>{massRatio}</td>\n",
       "      <td>2009</td>\n",
       "      <td>2009-01--2009-12</td>\n",
       "      <td>132.859000</td>\n",
       "      <td>FRFR238</td>\n",
       "      <td>France</td>\n",
       "      <td>...</td>\n",
       "      <td>32.0</td>\n",
       "      <td>10.0</td>\n",
       "      <td>3.0</td>\n",
       "      <td>26.0</td>\n",
       "      <td>20.0</td>\n",
       "      <td>9.0</td>\n",
       "      <td>0.0</td>\n",
       "      <td>0.0</td>\n",
       "      <td>0.0</td>\n",
       "      <td>22.26</td>\n",
       "    </tr>\n",
       "    <tr>\n",
       "      <th>3</th>\n",
       "      <td>RW</td>\n",
       "      <td>CAS_14797-55-8</td>\n",
       "      <td>total</td>\n",
       "      <td>water</td>\n",
       "      <td>mg{NO3}/L</td>\n",
       "      <td>2009</td>\n",
       "      <td>2009-01--2009-12</td>\n",
       "      <td>11.578376</td>\n",
       "      <td>FRFR327C</td>\n",
       "      <td>France</td>\n",
       "      <td>...</td>\n",
       "      <td>32.0</td>\n",
       "      <td>10.0</td>\n",
       "      <td>3.0</td>\n",
       "      <td>26.0</td>\n",
       "      <td>20.0</td>\n",
       "      <td>9.0</td>\n",
       "      <td>0.0</td>\n",
       "      <td>0.0</td>\n",
       "      <td>0.0</td>\n",
       "      <td>22.26</td>\n",
       "    </tr>\n",
       "    <tr>\n",
       "      <th>4</th>\n",
       "      <td>RW</td>\n",
       "      <td>EEA_3151-01-7</td>\n",
       "      <td>total</td>\n",
       "      <td>water</td>\n",
       "      <td>mmol/L</td>\n",
       "      <td>2009</td>\n",
       "      <td>2009-01--2009-12</td>\n",
       "      <td>0.206800</td>\n",
       "      <td>ES014MSPFES-014-NR-038-000-02-02</td>\n",
       "      <td>Spain</td>\n",
       "      <td>...</td>\n",
       "      <td>49.0</td>\n",
       "      <td>8.0</td>\n",
       "      <td>3.0</td>\n",
       "      <td>14.0</td>\n",
       "      <td>15.0</td>\n",
       "      <td>9.0</td>\n",
       "      <td>0.0</td>\n",
       "      <td>2.0</td>\n",
       "      <td>0.0</td>\n",
       "      <td>16.84</td>\n",
       "    </tr>\n",
       "  </tbody>\n",
       "</table>\n",
       "<p>5 rows × 29 columns</p>\n",
       "</div>"
      ],
      "text/plain": [
       "  parameterWaterBodyCategory observedPropertyDeterminandCode  \\\n",
       "0                         RW                  CAS_14797-65-0   \n",
       "1                         RW                  CAS_14797-65-0   \n",
       "2                         RW                   EEA_3164-07-6   \n",
       "3                         RW                  CAS_14797-55-8   \n",
       "4                         RW                   EEA_3151-01-7   \n",
       "\n",
       "  procedureAnalysedFraction procedureAnalysedMedia    resultUom  \\\n",
       "0                     total                  water    mg{NO2}/L   \n",
       "1                     total                  water    mg{NO2}/L   \n",
       "2                     total                  water  {massRatio}   \n",
       "3                     total                  water    mg{NO3}/L   \n",
       "4                     total                  water       mmol/L   \n",
       "\n",
       "   phenomenonTimeReferenceYear parameterSamplingPeriod  resultMeanValue  \\\n",
       "0                         2009        2009-01--2009-12         0.063310   \n",
       "1                         2009        2009-01--2009-12         0.046733   \n",
       "2                         2009        2009-01--2009-12       132.859000   \n",
       "3                         2009        2009-01--2009-12        11.578376   \n",
       "4                         2009        2009-01--2009-12         0.206800   \n",
       "\n",
       "                waterBodyIdentifier Country  ...  \\\n",
       "0                           FRDR609  France  ...   \n",
       "1                           FRFR238  France  ...   \n",
       "2                           FRFR238  France  ...   \n",
       "3                          FRFR327C  France  ...   \n",
       "4  ES014MSPFES-014-NR-038-000-02-02   Spain  ...   \n",
       "\n",
       "   composition_food_organic_waste_percent  composition_glass_percent  \\\n",
       "0                                    32.0                       10.0   \n",
       "1                                    32.0                       10.0   \n",
       "2                                    32.0                       10.0   \n",
       "3                                    32.0                       10.0   \n",
       "4                                    49.0                        8.0   \n",
       "\n",
       "   composition_metal_percent  composition_other_percent  \\\n",
       "0                        3.0                       26.0   \n",
       "1                        3.0                       26.0   \n",
       "2                        3.0                       26.0   \n",
       "3                        3.0                       26.0   \n",
       "4                        3.0                       14.0   \n",
       "\n",
       "   composition_paper_cardboard_percent  composition_plastic_percent  \\\n",
       "0                                 20.0                          9.0   \n",
       "1                                 20.0                          9.0   \n",
       "2                                 20.0                          9.0   \n",
       "3                                 20.0                          9.0   \n",
       "4                                 15.0                          9.0   \n",
       "\n",
       "   composition_rubber_leather_percent  composition_wood_percent  \\\n",
       "0                                 0.0                       0.0   \n",
       "1                                 0.0                       0.0   \n",
       "2                                 0.0                       0.0   \n",
       "3                                 0.0                       0.0   \n",
       "4                                 0.0                       2.0   \n",
       "\n",
       "   composition_yard_garden_green_waste_percent  \\\n",
       "0                                          0.0   \n",
       "1                                          0.0   \n",
       "2                                          0.0   \n",
       "3                                          0.0   \n",
       "4                                          0.0   \n",
       "\n",
       "   waste_treatment_recycling_percent  \n",
       "0                              22.26  \n",
       "1                              22.26  \n",
       "2                              22.26  \n",
       "3                              22.26  \n",
       "4                              16.84  \n",
       "\n",
       "[5 rows x 29 columns]"
      ]
     },
     "execution_count": 4,
     "metadata": {},
     "output_type": "execute_result"
    }
   ],
   "source": [
    "df.head(5)"
   ]
  },
  {
   "cell_type": "code",
   "execution_count": 5,
   "metadata": {
    "scrolled": true
   },
   "outputs": [
    {
     "name": "stdout",
     "output_type": "stream",
     "text": [
      "<class 'pandas.core.frame.DataFrame'>\n",
      "RangeIndex: 20000 entries, 0 to 19999\n",
      "Data columns (total 29 columns):\n",
      "parameterWaterBodyCategory                     20000 non-null object\n",
      "observedPropertyDeterminandCode                20000 non-null object\n",
      "procedureAnalysedFraction                      20000 non-null object\n",
      "procedureAnalysedMedia                         20000 non-null object\n",
      "resultUom                                      20000 non-null object\n",
      "phenomenonTimeReferenceYear                    20000 non-null int64\n",
      "parameterSamplingPeriod                        20000 non-null object\n",
      "resultMeanValue                                20000 non-null float64\n",
      "waterBodyIdentifier                            20000 non-null object\n",
      "Country                                        20000 non-null object\n",
      "PopulationDensity                              19893 non-null float64\n",
      "TerraMarineProtected_2016_2018                 19893 non-null float64\n",
      "TouristMean_1990_2020                          19893 non-null float64\n",
      "VenueCount                                     20000 non-null float64\n",
      "netMigration_2011_2018                         19893 non-null float64\n",
      "droughts_floods_temperature                    19893 non-null float64\n",
      "literacyRate_2010_2018                         19893 non-null float64\n",
      "combustibleRenewables_2009_2014                19893 non-null float64\n",
      "gdp                                            19893 non-null float64\n",
      "composition_food_organic_waste_percent         19893 non-null float64\n",
      "composition_glass_percent                      19893 non-null float64\n",
      "composition_metal_percent                      19893 non-null float64\n",
      "composition_other_percent                      19893 non-null float64\n",
      "composition_paper_cardboard_percent            19893 non-null float64\n",
      "composition_plastic_percent                    19893 non-null float64\n",
      "composition_rubber_leather_percent             19893 non-null float64\n",
      "composition_wood_percent                       19893 non-null float64\n",
      "composition_yard_garden_green_waste_percent    19893 non-null float64\n",
      "waste_treatment_recycling_percent              19893 non-null float64\n",
      "dtypes: float64(20), int64(1), object(8)\n",
      "memory usage: 4.4+ MB\n"
     ]
    }
   ],
   "source": [
    "df.info()"
   ]
  },
  {
   "cell_type": "markdown",
   "metadata": {},
   "source": [
    "\n",
    "\n",
    "It consists of 29 columns. Some columns are non-number objects. Column such as years and countries.\n",
    "\n",
    "An approach to take is understanding where and when the data were collected before diving into the composition of the water sample.\n",
    "\n",
    "Our Dataset's entries are not all the same for all columns. In this case, we will start with understanding how many columns in the data has nan values and make sure to remove duplicate entries.\n"
   ]
  },
  {
   "cell_type": "code",
   "execution_count": 8,
   "metadata": {
    "scrolled": true
   },
   "outputs": [
    {
     "data": {
      "text/plain": [
       "<matplotlib.axes._subplots.AxesSubplot at 0x1b1d3ebd358>"
      ]
     },
     "execution_count": 8,
     "metadata": {},
     "output_type": "execute_result"
    },
    {
     "data": {
      "image/png": "[encoded data removed]",
      "text/plain": [
       "<Figure size 360x360 with 1 Axes>"
      ]
     },
     "metadata": {
      "needs_background": "light"
     },
     "output_type": "display_data"
    }
   ],
   "source": [
    "MissChart = df.isnull().sum()/df.shape[0] *100\n",
    "MissChart[MissChart >0].sort_values(ascending=True).plot(kind='barh', figsize = (5,5))"
   ]
  },
  {
   "cell_type": "markdown",
   "metadata": {},
   "source": [
    "It seems like the about amount of data missing is about 0.5 percent which means the dataset has very little missing data."
   ]
  },
  {
   "cell_type": "code",
   "execution_count": 9,
   "metadata": {},
   "outputs": [],
   "source": [
    "df = df.dropna()"
   ]
  },
  {
   "cell_type": "code",
   "execution_count": 12,
   "metadata": {},
   "outputs": [],
   "source": [
    "df_nondup = df.drop_duplicates()"
   ]
  },
  {
   "cell_type": "code",
   "execution_count": 13,
   "metadata": {
    "scrolled": true
   },
   "outputs": [
    {
     "name": "stdout",
     "output_type": "stream",
     "text": [
      "<class 'pandas.core.frame.DataFrame'>\n",
      "Int64Index: 19814 entries, 0 to 19999\n",
      "Data columns (total 29 columns):\n",
      "parameterWaterBodyCategory                     19814 non-null object\n",
      "observedPropertyDeterminandCode                19814 non-null object\n",
      "procedureAnalysedFraction                      19814 non-null object\n",
      "procedureAnalysedMedia                         19814 non-null object\n",
      "resultUom                                      19814 non-null object\n",
      "phenomenonTimeReferenceYear                    19814 non-null int64\n",
      "parameterSamplingPeriod                        19814 non-null object\n",
      "resultMeanValue                                19814 non-null float64\n",
      "waterBodyIdentifier                            19814 non-null object\n",
      "Country                                        19814 non-null object\n",
      "PopulationDensity                              19814 non-null float64\n",
      "TerraMarineProtected_2016_2018                 19814 non-null float64\n",
      "TouristMean_1990_2020                          19814 non-null float64\n",
      "VenueCount                                     19814 non-null float64\n",
      "netMigration_2011_2018                         19814 non-null float64\n",
      "droughts_floods_temperature                    19814 non-null float64\n",
      "literacyRate_2010_2018                         19814 non-null float64\n",
      "combustibleRenewables_2009_2014                19814 non-null float64\n",
      "gdp                                            19814 non-null float64\n",
      "composition_food_organic_waste_percent         19814 non-null float64\n",
      "composition_glass_percent                      19814 non-null float64\n",
      "composition_metal_percent                      19814 non-null float64\n",
      "composition_other_percent                      19814 non-null float64\n",
      "composition_paper_cardboard_percent            19814 non-null float64\n",
      "composition_plastic_percent                    19814 non-null float64\n",
      "composition_rubber_leather_percent             19814 non-null float64\n",
      "composition_wood_percent                       19814 non-null float64\n",
      "composition_yard_garden_green_waste_percent    19814 non-null float64\n",
      "waste_treatment_recycling_percent              19814 non-null float64\n",
      "dtypes: float64(20), int64(1), object(8)\n",
      "memory usage: 4.5+ MB\n"
     ]
    }
   ],
   "source": [
    "df_nondup.info()"
   ]
  },
  {
   "cell_type": "code",
   "execution_count": 14,
   "metadata": {},
   "outputs": [
    {
     "data": {
      "text/plain": [
       "<matplotlib.axes._subplots.AxesSubplot at 0x1b1d466f438>"
      ]
     },
     "execution_count": 14,
     "metadata": {},
     "output_type": "execute_result"
    },
    {
     "data": {
      "image/png": "[encoded data removed]",
      "text/plain": [
       "<Figure size 432x288 with 1 Axes>"
      ]
     },
     "metadata": {
      "needs_background": "light"
     },
     "output_type": "display_data"
    }
   ],
   "source": [
    "#df_country = df.groupby(['Country']).size().reset_index(name='Count')\n",
    "df_nondup['Country'].value_counts().plot(kind='bar')\n",
    "#we see the country of water sample collected is skewed towards france"
   ]
  },
  {
   "cell_type": "markdown",
   "metadata": {},
   "source": [
    "We can see from this chart, most of our data is gathered from France, UK and Spain. "
   ]
  },
  {
   "cell_type": "code",
   "execution_count": 16,
   "metadata": {
    "scrolled": false
   },
   "outputs": [
    {
     "data": {
      "text/plain": [
       "<matplotlib.axes._subplots.AxesSubplot at 0x1b1d203f710>"
      ]
     },
     "execution_count": 16,
     "metadata": {},
     "output_type": "execute_result"
    },
    {
     "data": {
      "image/png": "[encoded data removed]",
      "text/plain": [
       "<Figure size 432x288 with 1 Axes>"
      ]
     },
     "metadata": {
      "needs_background": "light"
     },
     "output_type": "display_data"
    }
   ],
   "source": [
    "df_nondup.phenomenonTimeReferenceYear.value_counts().plot(kind='bar')\n",
    "#we see the years of water sample collected is skewed toward 2006-2010"
   ]
  },
  {
   "cell_type": "markdown",
   "metadata": {},
   "source": [
    "Most of values in the dataset comes from 2006-2010."
   ]
  },
  {
   "cell_type": "markdown",
   "metadata": {},
   "source": [
    "let's visualize the number of data points collected based on Years and Countries via bubble plot. We want to see how is our dataset distributed based on years and countries."
   ]
  },
  {
   "cell_type": "code",
   "execution_count": 17,
   "metadata": {},
   "outputs": [],
   "source": [
    "df3= df_nondup.groupby(['phenomenonTimeReferenceYear','Country']).count().reset_index()"
   ]
  },
  {
   "cell_type": "markdown",
   "metadata": {},
   "source": [
    "Did a groupby method by year and countries"
   ]
  },
  {
   "cell_type": "code",
   "execution_count": 18,
   "metadata": {},
   "outputs": [],
   "source": [
    "df3 = df3[['phenomenonTimeReferenceYear','Country', 'resultUom']]"
   ]
  },
  {
   "cell_type": "code",
   "execution_count": 19,
   "metadata": {},
   "outputs": [],
   "source": [
    "df3 = df3.rename(columns = {\"resultUom\":\"Count\"})"
   ]
  },
  {
   "cell_type": "code",
   "execution_count": 20,
   "metadata": {
    "scrolled": true
   },
   "outputs": [
    {
     "data": {
      "text/html": [
       "<div>\n",
       "<style scoped>\n",
       "    .dataframe tbody tr th:only-of-type {\n",
       "        vertical-align: middle;\n",
       "    }\n",
       "\n",
       "    .dataframe tbody tr th {\n",
       "        vertical-align: top;\n",
       "    }\n",
       "\n",
       "    .dataframe thead th {\n",
       "        text-align: right;\n",
       "    }\n",
       "</style>\n",
       "<table border=\"1\" class=\"dataframe\">\n",
       "  <thead>\n",
       "    <tr style=\"text-align: right;\">\n",
       "      <th></th>\n",
       "      <th>phenomenonTimeReferenceYear</th>\n",
       "      <th>Country</th>\n",
       "      <th>Count</th>\n",
       "    </tr>\n",
       "  </thead>\n",
       "  <tbody>\n",
       "    <tr>\n",
       "      <th>30</th>\n",
       "      <td>2008</td>\n",
       "      <td>Czech Republic</td>\n",
       "      <td>66</td>\n",
       "    </tr>\n",
       "    <tr>\n",
       "      <th>48</th>\n",
       "      <td>2009</td>\n",
       "      <td>Czech Republic</td>\n",
       "      <td>43</td>\n",
       "    </tr>\n",
       "    <tr>\n",
       "      <th>69</th>\n",
       "      <td>2010</td>\n",
       "      <td>Czech Republic</td>\n",
       "      <td>14</td>\n",
       "    </tr>\n",
       "    <tr>\n",
       "      <th>84</th>\n",
       "      <td>2011</td>\n",
       "      <td>Czech Republic</td>\n",
       "      <td>15</td>\n",
       "    </tr>\n",
       "    <tr>\n",
       "      <th>92</th>\n",
       "      <td>2012</td>\n",
       "      <td>Czech Republic</td>\n",
       "      <td>49</td>\n",
       "    </tr>\n",
       "    <tr>\n",
       "      <th>96</th>\n",
       "      <td>2013</td>\n",
       "      <td>Czech Republic</td>\n",
       "      <td>48</td>\n",
       "    </tr>\n",
       "    <tr>\n",
       "      <th>98</th>\n",
       "      <td>2014</td>\n",
       "      <td>Czech Republic</td>\n",
       "      <td>69</td>\n",
       "    </tr>\n",
       "    <tr>\n",
       "      <th>103</th>\n",
       "      <td>2015</td>\n",
       "      <td>Czech Republic</td>\n",
       "      <td>33</td>\n",
       "    </tr>\n",
       "    <tr>\n",
       "      <th>107</th>\n",
       "      <td>2016</td>\n",
       "      <td>Czech Republic</td>\n",
       "      <td>142</td>\n",
       "    </tr>\n",
       "  </tbody>\n",
       "</table>\n",
       "</div>"
      ],
      "text/plain": [
       "     phenomenonTimeReferenceYear         Country  Count\n",
       "30                          2008  Czech Republic     66\n",
       "48                          2009  Czech Republic     43\n",
       "69                          2010  Czech Republic     14\n",
       "84                          2011  Czech Republic     15\n",
       "92                          2012  Czech Republic     49\n",
       "96                          2013  Czech Republic     48\n",
       "98                          2014  Czech Republic     69\n",
       "103                         2015  Czech Republic     33\n",
       "107                         2016  Czech Republic    142"
      ]
     },
     "execution_count": 20,
     "metadata": {},
     "output_type": "execute_result"
    }
   ],
   "source": [
    "df3.loc[df3['Country'] == \"Czech Republic\"]"
   ]
  },
  {
   "cell_type": "code",
   "execution_count": 22,
   "metadata": {
    "scrolled": false
   },
   "outputs": [
    {
     "data": {
      "image/png": "[encoded data removed]",
      "text/plain": [
       "<Figure size 842.4x595.44 with 1 Axes>"
      ]
     },
     "metadata": {
      "needs_background": "light"
     },
     "output_type": "display_data"
    }
   ],
   "source": [
    "from matplotlib import pyplot\n",
    "import seaborn\n",
    "\n",
    "a4_dims = (11.7, 8.27)\n",
    "\n",
    "fig, ax = pyplot.subplots(figsize=a4_dims)\n",
    "\n",
    "sns.scatterplot(x=\"phenomenonTimeReferenceYear\", y=\"Country\",size=\"Count\", data=df3,sizes=(20, 200))\n",
    "\n",
    "plt.grid(axis = 'y')\n"
   ]
  },
  {
   "cell_type": "markdown",
   "metadata": {},
   "source": [
    "- We can see that most of our data is gather in France from 2008- 2010. United Kingdom from 2006 - 2011. \n",
    "- Not all countries have data throughout the year of 1991 - 2017.\n",
    "- The graph also shows some countries have small amount of data each year and are spread throughout the years. ex: Czech republic.\n",
    "\n"
   ]
  },
  {
   "cell_type": "markdown",
   "metadata": {},
   "source": [
    "## Next step\n",
    "\n",
    "Currently have no plans on using this dataset for any machine learning algorithm/prediction. \n",
    "\n",
    "This dataset does not encompress lot of the data before 2005 and after 2011.\n",
    "\n",
    "Thinking in terms of question to understand the dataset more:\n",
    "- How should we modify the dataset to do a better comparsion between countries and years?\n",
    "- How does the water sample data changes throughout years for countries with suffice data?\n",
    "- Are there any correlation/interesting finding that would impact water sample data such as countries gdp, literacy rate, Pouplation Density?"
   ]
  },
  {
   "cell_type": "code",
   "execution_count": null,
   "metadata": {},
   "outputs": [],
   "source": []
  }
 ],
 "metadata": {
  "kernelspec": {
   "display_name": "Python 3",
   "language": "python",
   "name": "python3"
  },
  "language_info": {
   "codemirror_mode": {
    "name": "ipython",
    "version": 3
   },
   "file_extension": ".py",
   "mimetype": "text/x-python",
   "name": "python",
   "nbconvert_exporter": "python",
   "pygments_lexer": "ipython3",
   "version": "3.7.3"
  }
 },
 "nbformat": 4,
 "nbformat_minor": 2
}
